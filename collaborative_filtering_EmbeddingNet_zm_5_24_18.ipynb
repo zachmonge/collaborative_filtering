{
 "cells": [
  {
   "cell_type": "markdown",
   "metadata": {},
   "source": [
    "This is a script written by Zach Monge, which demonstrates (1) standard collaborative filtering with bias (\"shallow learning\") and (2) and collaborative filtering with an Embedding Net (\"deep learning\"). For the data, I used the MovieLens 100K ratings database, which may be downloaded at https://grouplens.org/datasets/movielens/ (download the ml-latest-small.zip). The dataset contains ratings from about 700 users for 9000 movies. For this script I use fastai, which is written on top of PyTorch. I orginally ran this script on Google Cloud Platform with 8 vCPus and 1 NVIDIA Tesla K80 GPU. I would like to thank the fastai library creators for providing many parts of the code included here."
   ]
  },
  {
   "cell_type": "code",
   "execution_count": 1,
   "metadata": {},
   "outputs": [],
   "source": [
    "# Importing functions\n",
    "\n",
    "%reload_ext autoreload\n",
    "%autoreload 2\n",
    "%matplotlib inline\n",
    "\n",
    "from fastai.learner import *\n",
    "from fastai.column_data import *",
    "import pandas as pd"
   ]
  },
  {
   "cell_type": "markdown",
   "metadata": {},
   "source": [
    "# 1. Collaborative filtering w/ bias"
   ]
  },
  {
   "cell_type": "code",
   "execution_count": 2,
   "metadata": {},
   "outputs": [],
   "source": [
    "# This is using the standard default collaborative filtering that is written in fastai\n",
    "# Note how we do collaborative filtering with only a few lines of code\n",
    "\n",
    "# Path to data \n",
    "path = '/home/zachm/fastai_data/ml-latest-small/'\n",
    "\n",
    "# Importing ratings data\n",
    "ratings = pd.read_csv(f'{path}ratings.csv')\n",
    "\n",
    "# Getting indices for the samples that will be the validation set\n",
    "val_idx = get_cv_idxs(len(ratings))"
   ]
  },
  {
   "cell_type": "code",
   "execution_count": 3,
   "metadata": {},
   "outputs": [],
   "source": [
    "# Putting the data into a dataset that can work easily with fastai\n",
    "cf=CollabFilterDataset.from_csv(path,'ratings.csv','userId','movieId','rating')"
   ]
  },
  {
   "cell_type": "code",
   "execution_count": 4,
   "metadata": {},
   "outputs": [],
   "source": [
    "# Now creating the learner, which contains all of the model information\n",
    "\n",
    "# Number of embedding factors. Can be any number you want. 50 seemed to work well\n",
    "n_factors = 50\n",
    "# Putting together the learner\n",
    "learner = cf.get_learner(n_factors,val_idx,bs=64,opt_fn=optim.Adam)"
   ]
  },
  {
   "cell_type": "code",
   "execution_count": 5,
   "metadata": {},
   "outputs": [
    {
     "data": {
      "application/vnd.jupyter.widget-view+json": {
       "model_id": "7a4b7bdfeead4b9bae1890d4ce5dd8d5",
       "version_major": 2,
       "version_minor": 0
      },
      "text/plain": [
       "A Jupyter Widget"
      ]
     },
     "metadata": {},
     "output_type": "display_data"
    },
    {
     "name": "stdout",
     "output_type": "stream",
     "text": [
      " 71%|███████▏  | 894/1251 [00:04<00:01, 210.54it/s, loss=4.72]\n",
      "                                                              \r"
     ]
    },
    {
     "data": {
      "image/png": "[encoded data removed]",
      "text/plain": [
       "<Figure size 432x288 with 1 Axes>"
      ]
     },
     "metadata": {},
     "output_type": "display_data"
    }
   ],
   "source": [
    "# Before fitting the model can use lr_find to find the learing rate to use. Based upon this result will use 1e-2\n",
    "learner.lr_find()\n",
    "learner.sched.plot()"
   ]
  },
  {
   "cell_type": "code",
   "execution_count": 6,
   "metadata": {},
   "outputs": [
    {
     "data": {
      "application/vnd.jupyter.widget-view+json": {
       "model_id": "a37fa8d15b044d83a84e4bf0fb343707",
       "version_major": 2,
       "version_minor": 0
      },
      "text/plain": [
       "A Jupyter Widget"
      ]
     },
     "metadata": {},
     "output_type": "display_data"
    },
    {
     "name": "stdout",
     "output_type": "stream",
     "text": [
      "epoch      trn_loss   val_loss                                  \n",
      "    0      0.812697   0.807057  \n",
      "    1      0.770731   0.780032                                  \n",
      "    2      0.588246   0.76591                                   \n",
      "\n"
     ]
    },
    {
     "data": {
      "text/plain": [
       "[0.76591045]"
      ]
     },
     "execution_count": 6,
     "metadata": {},
     "output_type": "execute_result"
    }
   ],
   "source": [
    "# Now fitting the model\n",
    "wd=2e-4 # Weight decay\n",
    "\n",
    "# Fitting. cycle_len & cycle_mult are for running stochastic gradient descent with restarts (SGDR).\n",
    "learner.fit(1e-2,2,wds=wd,cycle_len=1,cycle_mult=2)"
   ]
  },
  {
   "cell_type": "markdown",
   "metadata": {},
   "source": [
    "# 2. Collaborative filtering with deep learning"
   ]
  },
  {
   "cell_type": "code",
   "execution_count": 7,
   "metadata": {},
   "outputs": [],
   "source": [
    "# Now creating the Embedding Net (i.e., collaborative filtering with deep learning). \n",
    "# Most of this code is using PyTorch functions, except for get_emb which is from the fastai library. \n",
    "# All get_emb does is create an embedding matrix with randomly intialized weights\n",
    "\n",
    "class EmbeddingNet(nn.Module):\n",
    "    def __init__(self,n_users,n_movies,n_factors,nh,p1,p2,min_rating,max_rating):\n",
    "        super().__init__()\n",
    "        (self.u,self.m) = [get_emb(*o) for o in [(n_users,n_factors),(n_movies,n_factors)]]\n",
    "        self.lin1 = nn.Linear(n_factors*2,nh)\n",
    "        self.lin2 = nn.Linear(nh,1)\n",
    "        self.drop1 = nn.Dropout(p1)\n",
    "        self.drop2 = nn.Dropout(p2)\n",
    "    \n",
    "    def forward(self, users, items):\n",
    "        x = self.drop1(torch.cat([self.u(users),self.m(items)],dim=1))\n",
    "        x = self.drop2(F.relu(self.lin1(x)))\n",
    "        return F.sigmoid(self.lin2(x)) * (max_rating - min_rating) + min_rating"
   ]
  },
  {
   "cell_type": "code",
   "execution_count": 8,
   "metadata": {},
   "outputs": [],
   "source": [
    "# This code is straight from the fastai library except I made a slight modification to the get_learner fuction,\n",
    "# so we can use a custom model (e.g., Embedding Net) with the fastai learner. This will allow us to use special\n",
    "# fastai functions such as SGDR.\n",
    "class CollabFilterDataset_custom(Dataset):\n",
    "    def __init__(self, path, user_col, item_col, ratings):\n",
    "        self.ratings,self.path = ratings.values.astype(np.float32),path\n",
    "        self.n = len(ratings)\n",
    "        (self.users,self.user2idx,self.user_col,self.n_users) = self.proc_col(user_col)\n",
    "        (self.items,self.item2idx,self.item_col,self.n_items) = self.proc_col(item_col)\n",
    "        self.min_score,self.max_score = min(ratings),max(ratings)\n",
    "        self.cols = [self.user_col,self.item_col,self.ratings]\n",
    "\n",
    "    @classmethod\n",
    "    def from_data_frame(cls, path, df, user_name, item_name, rating_name):\n",
    "        return cls(path, df[user_name], df[item_name], df[rating_name])\n",
    "\n",
    "    @classmethod\n",
    "    def from_csv(cls, path, csv, user_name, item_name, rating_name):\n",
    "        df = pd.read_csv(os.path.join(path,csv))\n",
    "        return cls.from_data_frame(path, df, user_name, item_name, rating_name)\n",
    "\n",
    "    def proc_col(self,col):\n",
    "        uniq = col.unique()\n",
    "        name2idx = {o:i for i,o in enumerate(uniq)}\n",
    "        return (uniq, name2idx, np.array([name2idx[x] for x in col]), len(uniq))\n",
    "\n",
    "    def __len__(self): return self.n\n",
    "    def __getitem__(self, idx): return [o[idx] for o in self.cols]\n",
    "\n",
    "    def get_data(self, val_idxs, bs):\n",
    "        val, trn = zip(*split_by_idx(val_idxs, *self.cols))\n",
    "        return ColumnarModelData(self.path, PassthruDataset(*trn), PassthruDataset(*val), bs)\n",
    "\n",
    "    def get_model(self, n_factors):\n",
    "        model = EmbeddingDotBias(n_factors, self.n_users, self.n_items, self.min_score, self.max_score)\n",
    "        return CollabFilterModel(to_gpu(model))\n",
    "\n",
    "    def get_learner(self, model, val_idxs, bs, **kwargs):\n",
    "        return CollabFilterLearner(self.get_data(val_idxs, bs), model, **kwargs)\n"
   ]
  },
  {
   "cell_type": "code",
   "execution_count": 9,
   "metadata": {},
   "outputs": [],
   "source": [
    "# Path to data \n",
    "path = '/home/zachm/fastai_data/ml-latest-small/'\n",
    "\n",
    "# Importing ratings data\n",
    "ratings = pd.read_csv(f'{path}ratings.csv')\n",
    "\n",
    "# Getting indices for the samples that will be the validation set\n",
    "val_idx = get_cv_idxs(len(ratings))\n",
    "\n",
    "# Number of users\n",
    "n_users = int(ratings.userId.nunique())\n",
    "\n",
    "# Number of movies\n",
    "n_movies = int(ratings.movieId.nunique())\n",
    "\n",
    "# Minimum and maxium rating\n",
    "min_rating, max_rating = ratings.rating.min(),ratings.rating.max()"
   ]
  },
  {
   "cell_type": "code",
   "execution_count": 10,
   "metadata": {},
   "outputs": [],
   "source": [
    "# Putting the data into a dataset that can work easily with fastai\n",
    "data = CollabFilterDataset_custom.from_csv(path,'ratings.csv','userId','movieId','rating')"
   ]
  },
  {
   "cell_type": "code",
   "execution_count": 11,
   "metadata": {},
   "outputs": [],
   "source": [
    "# Creating the model. For EmbeddingNet, need to sepcify number of users, number of movies, embedding factor size,\n",
    "# size of hidden layer, first drop out, second drop out, minimum rating, and maximum rating\n",
    "model_net = EmbeddingNet(n_users,n_movies,50,10,0.05,0.45,min_rating,max_rating)\n",
    "\n",
    "#Putting the model onto the GPU\n",
    "model_net = CollabFilterModel(to_gpu(model_net))"
   ]
  },
  {
   "cell_type": "code",
   "execution_count": 12,
   "metadata": {},
   "outputs": [],
   "source": [
    "# Putting together the learner\n",
    "net_learner=data.get_learner(model_net,val_idxs=val_idx,bs=64,opt_fn=optim.Adam)"
   ]
  },
  {
   "cell_type": "code",
   "execution_count": 13,
   "metadata": {},
   "outputs": [
    {
     "data": {
      "application/vnd.jupyter.widget-view+json": {
       "model_id": "33e8075f57c842009179d219691402d0",
       "version_major": 2,
       "version_minor": 0
      },
      "text/plain": [
       "A Jupyter Widget"
      ]
     },
     "metadata": {},
     "output_type": "display_data"
    },
    {
     "name": "stdout",
     "output_type": "stream",
     "text": [
      "epoch      trn_loss   val_loss                                 \n",
      "    0      1.847744   2.277648  \n",
      "\n"
     ]
    },
    {
     "data": {
      "image/png": "[encoded data removed]",
      "text/plain": [
       "<Figure size 432x288 with 1 Axes>"
      ]
     },
     "metadata": {},
     "output_type": "display_data"
    }
   ],
   "source": [
    "# Before fitting the model can use lr_find to find the learing rate to use. Based upon this result will use 1e-3\n",
    "net_learner.lr_find()\n",
    "net_learner.sched.plot()"
   ]
  },
  {
   "cell_type": "code",
   "execution_count": 14,
   "metadata": {},
   "outputs": [
    {
     "data": {
      "application/vnd.jupyter.widget-view+json": {
       "model_id": "63236934a66d48898e30ae7f2ad28da1",
       "version_major": 2,
       "version_minor": 0
      },
      "text/plain": [
       "A Jupyter Widget"
      ]
     },
     "metadata": {},
     "output_type": "display_data"
    },
    {
     "name": "stdout",
     "output_type": "stream",
     "text": [
      "epoch      trn_loss   val_loss                                  \n",
      "    0      0.869109   0.82189   \n",
      "    1      0.784807   0.788799                                  \n",
      "    2      0.810858   0.784595                                  \n",
      "\n"
     ]
    },
    {
     "data": {
      "text/plain": [
       "[0.78459519]"
      ]
     },
     "execution_count": 14,
     "metadata": {},
     "output_type": "execute_result"
    }
   ],
   "source": [
    "# Now fitting the model\n",
    "wd = 1e-5 # Weight decay\n",
    "# Fitting. cycle_len & cycle_mult are for running stochastic gradient descent with restarts (SGDR).\n",
    "net_learner.fit(1e-3,2,wds=wd,cycle_len=1,cycle_mult=2)"
   ]
  },
  {
   "cell_type": "code",
   "execution_count": null,
   "metadata": {},
   "outputs": [],
   "source": []
  }
 ],
 "metadata": {
  "kernelspec": {
   "display_name": "Python 3",
   "language": "python",
   "name": "python3"
  },
  "language_info": {
   "codemirror_mode": {
    "name": "ipython",
    "version": 3
   },
   "file_extension": ".py",
   "mimetype": "text/x-python",
   "name": "python",
   "nbconvert_exporter": "python",
   "pygments_lexer": "ipython3",
   "version": "3.6.4"
  }
 },
 "nbformat": 4,
 "nbformat_minor": 2
}
